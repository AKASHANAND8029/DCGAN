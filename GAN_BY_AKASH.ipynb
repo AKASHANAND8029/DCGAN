{
  "nbformat": 4,
  "nbformat_minor": 0,
  "metadata": {
    "colab": {
      "name": "GAN_BY_AKASH.ipynb",
      "provenance": [],
      "collapsed_sections": []
    },
    "kernelspec": {
      "name": "python3",
      "display_name": "Python 3"
    },
    "language_info": {
      "name": "python"
    },
    "accelerator": "GPU"
  },
  "cells": [
    {
      "cell_type": "code",
      "source": [
        "import os"
      ],
      "metadata": {
        "id": "BJbAR3ZGN9Ab"
      },
      "execution_count": 1,
      "outputs": []
    },
    {
      "cell_type": "code",
      "source": [
        "import time"
      ],
      "metadata": {
        "id": "nxo9hHreOMaJ"
      },
      "execution_count": null,
      "outputs": []
    },
    {
      "cell_type": "code",
      "source": [
        "pip install tqdm"
      ],
      "metadata": {
        "colab": {
          "base_uri": "https://localhost:8080/"
        },
        "id": "3_7970M-OXHU",
        "outputId": "bd58aaba-c549-468f-8f92-8f171f0e09a4"
      },
      "execution_count": null,
      "outputs": [
        {
          "output_type": "stream",
          "name": "stdout",
          "text": [
            "Requirement already satisfied: tqdm in /usr/local/lib/python3.7/dist-packages (4.62.3)\n"
          ]
        }
      ]
    },
    {
      "cell_type": "code",
      "source": [
        "import warnings\n",
        "warnings.filterwarnings(\"ignore\")"
      ],
      "metadata": {
        "id": "3IPfJkJdRjY5"
      },
      "execution_count": null,
      "outputs": []
    },
    {
      "cell_type": "code",
      "source": [
        "import tensorflow as tf\n",
        "from tensorflow.keras.layers import Input, Reshape, Dropout, Dense \n",
        "from tensorflow.keras.layers import Flatten, BatchNormalization\n",
        "from tensorflow.keras.layers import Activation, ZeroPadding2D\n",
        "from tensorflow.keras.layers import LeakyReLU\n",
        "from tensorflow.keras.layers import UpSampling2D, Conv2D\n",
        "from tensorflow.keras.models import Sequential, Model, load_model\n",
        "from tensorflow.keras.optimizers import Adam\n",
        "import numpy as np\n",
        "from PIL import Image\n",
        "from tqdm import tqdm\n",
        "import os \n",
        "import time\n",
        "import matplotlib.pyplot as plt"
      ],
      "metadata": {
        "id": "o0hCW601PPmC"
      },
      "execution_count": null,
      "outputs": []
    },
    {
      "cell_type": "code",
      "execution_count": null,
      "metadata": {
        "id": "trVHbY_vPNQn"
      },
      "outputs": [],
      "source": [
        "from keras.layers import *\n",
        "from keras.models import Sequential , Model\n",
        "from keras.layers.advanced_activations import LeakyReLU\n",
        "from tensorflow.keras.optimizers import Adam\n",
        "\n",
        "import numpy as np\n",
        "import matplotlib.pyplot as plt\n",
        "\n",
        "\n"
      ]
    },
    {
      "cell_type": "code",
      "source": [
        "from google.colab import drive\n",
        "drive._mount('/content/drive')"
      ],
      "metadata": {
        "id": "WLL_AaPOR4wT",
        "colab": {
          "base_uri": "https://localhost:8080/"
        },
        "outputId": "d7bd8b8d-6467-4d63-e8b6-4be5ae251ea6"
      },
      "execution_count": null,
      "outputs": [
        {
          "output_type": "stream",
          "name": "stdout",
          "text": [
            "Mounted at /content/drive\n"
          ]
        }
      ]
    },
    {
      "cell_type": "code",
      "source": [
        "GENERATE_RES = 3 # Generation resolution factor \n",
        "# (1=32, 2=64, 3=96, 4=128, etc.)\n",
        "GENERATE_SQUARE = 32 * GENERATE_RES # rows/cols (should be square)\n",
        "IMAGE_CHANNELS = 3"
      ],
      "metadata": {
        "id": "w3Dj1MwrNMSO"
      },
      "execution_count": null,
      "outputs": []
    },
    {
      "cell_type": "code",
      "source": [
        "# Preview image \n",
        "PREVIEW_ROWS = 1\n",
        "PREVIEW_COLS = 1\n",
        "PREVIEW_MARGIN = 16"
      ],
      "metadata": {
        "id": "SZjrn8zSNQPC"
      },
      "execution_count": null,
      "outputs": []
    },
    {
      "cell_type": "code",
      "source": [
        "# Size vector to generate images from\n",
        "SEED_SIZE = 100"
      ],
      "metadata": {
        "id": "BR4Hn3juNT_k"
      },
      "execution_count": null,
      "outputs": []
    },
    {
      "cell_type": "code",
      "source": [
        "# Configuration\n",
        "DATA_PATH = '/content/drive/MyDrive/SA1.0'\n",
        "EPOCHS = 500\n",
        "BATCH_SIZE = 1\n",
        "BUFFER_SIZE = 500"
      ],
      "metadata": {
        "id": "_6J6ZBrzNXsF"
      },
      "execution_count": null,
      "outputs": []
    },
    {
      "cell_type": "code",
      "source": [
        "print(f\"Will generate {GENERATE_SQUARE}px square images.\")"
      ],
      "metadata": {
        "colab": {
          "base_uri": "https://localhost:8080/"
        },
        "id": "DF5YYAbJNnr_",
        "outputId": "5a9bc84b-a756-45bb-a0b0-58a36101f944"
      },
      "execution_count": null,
      "outputs": [
        {
          "output_type": "stream",
          "name": "stdout",
          "text": [
            "Will generate 96px square images.\n"
          ]
        }
      ]
    },
    {
      "cell_type": "code",
      "source": [
        "training_binary_path = os.path.join(DATA_PATH,\n",
        "        f'training_data_{GENERATE_SQUARE}_{GENERATE_SQUARE}.npy')\n"
      ],
      "metadata": {
        "id": "ZouqW9dVNyUZ"
      },
      "execution_count": null,
      "outputs": []
    },
    {
      "cell_type": "code",
      "source": [
        "print(f\"Looking for file: {training_binary_path}\")"
      ],
      "metadata": {
        "id": "y5c48c-IF9Mh",
        "colab": {
          "base_uri": "https://localhost:8080/"
        },
        "outputId": "d64bfbfa-ec57-43e4-dd46-bb868ede0ae6"
      },
      "execution_count": null,
      "outputs": [
        {
          "output_type": "stream",
          "name": "stdout",
          "text": [
            "Looking for file: /content/drive/MyDrive/IRSID/training_data_96_96.npy\n"
          ]
        }
      ]
    },
    {
      "cell_type": "code",
      "source": [
        "\n",
        "\n",
        "if not os.path.isfile(training_binary_path):\n",
        "  start = time.time()\n",
        "  print(\"Loading training images...\")\n",
        "  training_data = [ ]\n",
        "  faces_path = os.path.join(DATA_PATH)\n",
        "  for filename in tqdm(os.listdir(faces_path)):\n",
        "        path = os.path.join(faces_path,filename)\n",
        "        image = Image.open(path).resize((GENERATE_SQUARE,GENERATE_SQUARE), Image.ANTIALIAS) \n",
        "        training_data.append(np.asarray(image))\n",
        "  training_data = np.reshape(training_data,(-1,GENERATE_SQUARE,GENERATE_SQUARE,IMAGE_CHANNELS))\n",
        "  training_data = training_data.astype(np.float32)\n",
        "  training_data = training_data / 127.5 - 1.\n",
        "  print(\"Saving training image binary...\")\n",
        "  np.save(training_binary_path,training_data)\n",
        "  elapsed = time.time()-start\n",
        "  print (f'Image preprocess time: {hms_string(elapsed)}')\n",
        "else:\n",
        "  print(\"Loading previous training pickle...\")\n",
        "  training_data = np.load(training_binary_path)"
      ],
      "metadata": {
        "id": "zvtIYEa1ODtv",
        "colab": {
          "base_uri": "https://localhost:8080/"
        },
        "outputId": "eb4deac8-6f87-4530-8f61-9edef64e8b81"
      },
      "execution_count": null,
      "outputs": [
        {
          "output_type": "stream",
          "name": "stdout",
          "text": [
            "Loading previous training pickle...\n"
          ]
        }
      ]
    },
    {
      "cell_type": "code",
      "source": [
        "train_dataset = tf.data.Dataset.from_tensor_slices(training_data).shuffle(BUFFER_SIZE).batch(BATCH_SIZE)"
      ],
      "metadata": {
        "id": "7M5SzG0NQph_"
      },
      "execution_count": null,
      "outputs": []
    },
    {
      "cell_type": "code",
      "source": [
        "def build_generator(seed_size, channels):\n",
        "    model = Sequential()\n",
        "\n",
        "    model.add(Dense(4*4*256,activation=\"relu\",input_dim=seed_size))\n",
        "    model.add(Reshape((4,4,256)))\n",
        "\n",
        "    model.add(UpSampling2D())\n",
        "    model.add(Conv2D(256,kernel_size=3,padding=\"same\"))\n",
        "    model.add(BatchNormalization(momentum=0.8))\n",
        "    model.add(Activation(\"relu\"))\n",
        "\n",
        "    model.add(UpSampling2D())\n",
        "    model.add(Conv2D(256,kernel_size=3,padding=\"same\"))\n",
        "    model.add(BatchNormalization(momentum=0.8))\n",
        "    model.add(Activation(\"relu\"))\n",
        "   \n",
        "    # Output resolution, additional upsampling\n",
        "    model.add(UpSampling2D())\n",
        "    model.add(Conv2D(128,kernel_size=3,padding=\"same\"))\n",
        "    model.add(BatchNormalization(momentum=0.8))\n",
        "    model.add(Activation(\"relu\"))\n",
        "\n",
        "    if GENERATE_RES>1:\n",
        "      model.add(UpSampling2D(size=(GENERATE_RES,GENERATE_RES)))\n",
        "      model.add(Conv2D(128,kernel_size=3,padding=\"same\"))\n",
        "      model.add(BatchNormalization(momentum=0.8))\n",
        "      model.add(Activation(\"relu\"))\n",
        "\n",
        "    # Final CNN layer\n",
        "    model.add(Conv2D(channels,kernel_size=3,padding=\"same\"))\n",
        "    model.add(Activation(\"tanh\"))\n",
        "\n",
        "    return model\n",
        "\n",
        "\n",
        "def build_discriminator(image_shape):\n",
        "    model = Sequential()\n",
        "\n",
        "    model.add(Conv2D(32, kernel_size=3, strides=2, input_shape=image_shape, \n",
        "                     padding=\"same\"))\n",
        "    model.add(LeakyReLU(alpha=0.2))\n",
        "\n",
        "    model.add(Dropout(0.25))\n",
        "    model.add(Conv2D(64, kernel_size=3, strides=2, padding=\"same\"))\n",
        "    model.add(ZeroPadding2D(padding=((0,1),(0,1))))\n",
        "    model.add(BatchNormalization(momentum=0.8))\n",
        "    model.add(LeakyReLU(alpha=0.2))\n",
        "\n",
        "    model.add(Dropout(0.25))\n",
        "    model.add(Conv2D(128, kernel_size=3, strides=2, padding=\"same\"))\n",
        "    model.add(BatchNormalization(momentum=0.8))\n",
        "    model.add(LeakyReLU(alpha=0.2))\n",
        "\n",
        "    model.add(Dropout(0.25))\n",
        "    model.add(Conv2D(256, kernel_size=3, strides=1, padding=\"same\"))\n",
        "    model.add(BatchNormalization(momentum=0.8))\n",
        "    model.add(LeakyReLU(alpha=0.2))\n",
        "\n",
        "    model.add(Dropout(0.25))\n",
        "    model.add(Conv2D(512, kernel_size=3, strides=1, padding=\"same\"))\n",
        "    model.add(BatchNormalization(momentum=0.8))\n",
        "    model.add(LeakyReLU(alpha=0.2))\n",
        "\n",
        "    model.add(Dropout(0.25))\n",
        "    model.add(Flatten())\n",
        "    model.add(Dense(1, activation='sigmoid'))\n",
        "\n",
        "    return model"
      ],
      "metadata": {
        "id": "g93lItD_D_kO"
      },
      "execution_count": null,
      "outputs": []
    },
    {
      "cell_type": "code",
      "source": [
        "def save_images(cnt,noise):\n",
        "  image_array = np.full(( \n",
        "      PREVIEW_MARGIN + (PREVIEW_ROWS * (GENERATE_SQUARE+PREVIEW_MARGIN)), \n",
        "      PREVIEW_MARGIN + (PREVIEW_COLS * (GENERATE_SQUARE+PREVIEW_MARGIN)), 3), \n",
        "      255, dtype=np.uint8)\n",
        "  \n",
        "  generated_images = generator.predict(noise)\n",
        "\n",
        "  generated_images = 0.5 * generated_images + 0.5\n",
        "\n",
        "  image_count = 0\n",
        "  for row in range(PREVIEW_ROWS):\n",
        "      for col in range(PREVIEW_COLS):\n",
        "        r = row * (GENERATE_SQUARE+16) + PREVIEW_MARGIN\n",
        "        c = col * (GENERATE_SQUARE+16) + PREVIEW_MARGIN\n",
        "        image_array[r:r+GENERATE_SQUARE,c:c+GENERATE_SQUARE]= generated_images[image_count] * 255\n",
        "        image_count += 1\n",
        "\n",
        "          \n",
        "  output_path = os.path.join(DATA_PATH,'output')\n",
        "  if not os.path.exists(output_path):\n",
        "    os.makedirs(output_path)\n",
        "  \n",
        "  filename = os.path.join(output_path,f\"train-{cnt}.png\")\n",
        "  im = Image.fromarray(image_array)\n",
        "  im.save(filename)"
      ],
      "metadata": {
        "id": "2tTV31fCELKf"
      },
      "execution_count": null,
      "outputs": []
    },
    {
      "cell_type": "code",
      "source": [
        "generator = build_generator(SEED_SIZE, IMAGE_CHANNELS)\n",
        "\n",
        "noise = tf.random.normal([1, SEED_SIZE])\n",
        "generated_image = generator(noise, training=False)\n",
        "\n",
        "plt.imshow(generated_image[0, :, :, 0])"
      ],
      "metadata": {
        "colab": {
          "base_uri": "https://localhost:8080/",
          "height": 286
        },
        "id": "w901eJojRPR7",
        "outputId": "ed64aabf-3ff7-40d7-b280-c6bc4923df77"
      },
      "execution_count": null,
      "outputs": [
        {
          "output_type": "execute_result",
          "data": {
            "text/plain": [
              "<matplotlib.image.AxesImage at 0x7f2b0e1fcb90>"
            ]
          },
          "metadata": {},
          "execution_count": 48
        },
        {
          "output_type": "display_data",
          "data": {
            "image/png": "[encoded data removed]",
            "text/plain": [
              "<Figure size 432x288 with 1 Axes>"
            ]
          },
          "metadata": {
            "needs_background": "light"
          }
        }
      ]
    },
    {
      "cell_type": "code",
      "source": [
        "image_shape = (GENERATE_SQUARE,GENERATE_SQUARE,IMAGE_CHANNELS)\n",
        "\n",
        "discriminator = build_discriminator(image_shape)\n",
        "decision = discriminator(generated_image)\n",
        "print (decision)"
      ],
      "metadata": {
        "colab": {
          "base_uri": "https://localhost:8080/"
        },
        "id": "clFentHcRXsZ",
        "outputId": "d5a6efd0-a1a5-4c99-9891-dbcd6e15ea57"
      },
      "execution_count": null,
      "outputs": [
        {
          "output_type": "stream",
          "name": "stdout",
          "text": [
            "tf.Tensor([[0.5006605]], shape=(1, 1), dtype=float32)\n"
          ]
        }
      ]
    },
    {
      "cell_type": "code",
      "source": [
        "cross_entropy = tf.keras.losses.BinaryCrossentropy()\n",
        "\n",
        "def discriminator_loss(real_output, fake_output):\n",
        "    real_loss = cross_entropy(tf.ones_like(real_output), real_output)\n",
        "    fake_loss = cross_entropy(tf.zeros_like(fake_output), fake_output)\n",
        "    total_loss = real_loss + fake_loss\n",
        "    return total_loss\n",
        "\n",
        "def generator_loss(fake_output):\n",
        "    return cross_entropy(tf.ones_like(fake_output), fake_output)"
      ],
      "metadata": {
        "id": "rFN6BCvcRc4V"
      },
      "execution_count": null,
      "outputs": []
    },
    {
      "cell_type": "code",
      "source": [
        "generator_optimizer = tf.keras.optimizers.Adam(1.5e-4,0.5)\n",
        "discriminator_optimizer = tf.keras.optimizers.Adam(1.5e-4,0.5)"
      ],
      "metadata": {
        "id": "QEWAkX1kRg8B"
      },
      "execution_count": null,
      "outputs": []
    },
    {
      "cell_type": "code",
      "source": [
        "@tf.function\n",
        "def train_step(images):\n",
        "  seed = tf.random.normal([BATCH_SIZE, SEED_SIZE])\n",
        "\n",
        "  with tf.GradientTape() as gen_tape, tf.GradientTape() as disc_tape:\n",
        "    generated_images = generator(seed, training=True)\n",
        "\n",
        "    real_output = discriminator(images, training=True)\n",
        "    fake_output = discriminator(generated_images, training=True)\n",
        "\n",
        "    gen_loss = generator_loss(fake_output)\n",
        "    disc_loss = discriminator_loss(real_output, fake_output)\n",
        "    \n",
        "\n",
        "    gradients_of_generator = gen_tape.gradient(\n",
        "        gen_loss, generator.trainable_variables)\n",
        "    gradients_of_discriminator = disc_tape.gradient(\n",
        "        disc_loss, discriminator.trainable_variables)\n",
        "\n",
        "    generator_optimizer.apply_gradients(zip(\n",
        "        gradients_of_generator, generator.trainable_variables))\n",
        "    discriminator_optimizer.apply_gradients(zip(\n",
        "        gradients_of_discriminator, \n",
        "        discriminator.trainable_variables))\n",
        "  return gen_loss,disc_loss\n"
      ],
      "metadata": {
        "id": "EtXPqq0qRmCJ"
      },
      "execution_count": null,
      "outputs": []
    },
    {
      "cell_type": "code",
      "source": [
        "def train(dataset, epochs):\n",
        "  fixed_seed = np.random.normal(0, 1, (PREVIEW_ROWS * PREVIEW_COLS, \n",
        "                                       SEED_SIZE))\n",
        "  start = time.time()\n",
        "\n",
        "  for epoch in range(epochs):\n",
        "    epoch_start = time.time()\n",
        "\n",
        "    gen_loss_list = []\n",
        "    disc_loss_list = []\n",
        "\n",
        "    for image_batch in dataset:\n",
        "      t = train_step(image_batch)\n",
        "      gen_loss_list.append(t[0])\n",
        "      disc_loss_list.append(t[1])\n",
        "\n",
        "    g_loss = sum(gen_loss_list) / len(gen_loss_list)\n",
        "    d_loss = sum(disc_loss_list) / len(disc_loss_list)\n",
        "\n",
        "    epoch_elapsed = time.time()-epoch_start\n",
        "    print (f'Epoch {epoch+1}, gen loss={g_loss},disc loss={d_loss},''{hms_string(epoch_elapsed)}')\n",
        "    if(epoch>495):\n",
        "     save_images(epoch,fixed_seed)\n",
        "        \n",
        "  elapsed = time.time()-start\n",
        "  print (f'Training time: {hms_string(elapsed)}')\n",
        "  \n"
      ],
      "metadata": {
        "id": "m4IqZwRfUEKw"
      },
      "execution_count": null,
      "outputs": []
    },
    {
      "cell_type": "code",
      "source": [
        "train(train_dataset, EPOCHS)"
      ],
      "metadata": {
        "colab": {
          "base_uri": "https://localhost:8080/",
          "height": 1000
        },
        "id": "KLuVnwgSKs-t",
        "outputId": "0a128273-c86c-4ece-f838-f2c212fafa68"
      },
      "execution_count": null,
      "outputs": [
        {
          "output_type": "stream",
          "name": "stdout",
          "text": [
            "Epoch 1, gen loss=5.802896499633789,disc loss=0.23201021552085876,{hms_string(epoch_elapsed)}\n",
            "Epoch 2, gen loss=15.38882827758789,disc loss=0.043648313730955124,{hms_string(epoch_elapsed)}\n",
            "Epoch 3, gen loss=13.990413665771484,disc loss=0.6798669695854187,{hms_string(epoch_elapsed)}\n",
            "Epoch 4, gen loss=7.524786949157715,disc loss=0.14709697663784027,{hms_string(epoch_elapsed)}\n",
            "Epoch 5, gen loss=3.6834897994995117,disc loss=0.40556618571281433,{hms_string(epoch_elapsed)}\n",
            "Epoch 6, gen loss=14.032927513122559,disc loss=0.43717920780181885,{hms_string(epoch_elapsed)}\n",
            "Epoch 7, gen loss=17.79999542236328,disc loss=0.2133588194847107,{hms_string(epoch_elapsed)}\n",
            "Epoch 8, gen loss=12.258769035339355,disc loss=0.17925330996513367,{hms_string(epoch_elapsed)}\n",
            "Epoch 9, gen loss=6.732814788818359,disc loss=0.0917590782046318,{hms_string(epoch_elapsed)}\n",
            "Epoch 10, gen loss=6.866539001464844,disc loss=0.14710363745689392,{hms_string(epoch_elapsed)}\n",
            "Epoch 11, gen loss=11.030475616455078,disc loss=0.04651866480708122,{hms_string(epoch_elapsed)}\n",
            "Epoch 12, gen loss=12.422901153564453,disc loss=0.030379245057702065,{hms_string(epoch_elapsed)}\n",
            "Epoch 13, gen loss=10.517538070678711,disc loss=0.02265394851565361,{hms_string(epoch_elapsed)}\n",
            "Epoch 14, gen loss=11.661687850952148,disc loss=0.03775428980588913,{hms_string(epoch_elapsed)}\n",
            "Epoch 15, gen loss=10.86841106414795,disc loss=0.00641742255538702,{hms_string(epoch_elapsed)}\n",
            "Epoch 16, gen loss=10.247111320495605,disc loss=0.22935837507247925,{hms_string(epoch_elapsed)}\n",
            "Epoch 17, gen loss=14.547667503356934,disc loss=0.06652188301086426,{hms_string(epoch_elapsed)}\n",
            "Epoch 18, gen loss=13.800289154052734,disc loss=0.09866999089717865,{hms_string(epoch_elapsed)}\n",
            "Epoch 19, gen loss=9.151939392089844,disc loss=0.014698510989546776,{hms_string(epoch_elapsed)}\n",
            "Epoch 20, gen loss=8.569854736328125,disc loss=0.028801117092370987,{hms_string(epoch_elapsed)}\n",
            "Epoch 21, gen loss=10.427925109863281,disc loss=0.008716149255633354,{hms_string(epoch_elapsed)}\n",
            "Epoch 22, gen loss=9.206422805786133,disc loss=0.18178586661815643,{hms_string(epoch_elapsed)}\n",
            "Epoch 23, gen loss=15.002725601196289,disc loss=0.16263408958911896,{hms_string(epoch_elapsed)}\n",
            "Epoch 24, gen loss=10.95252799987793,disc loss=0.017898453399538994,{hms_string(epoch_elapsed)}\n",
            "Epoch 25, gen loss=10.37657642364502,disc loss=0.007170462980866432,{hms_string(epoch_elapsed)}\n",
            "Epoch 26, gen loss=8.611311912536621,disc loss=0.022545110434293747,{hms_string(epoch_elapsed)}\n",
            "Epoch 27, gen loss=10.146650314331055,disc loss=0.0031079519540071487,{hms_string(epoch_elapsed)}\n",
            "Epoch 28, gen loss=11.273536682128906,disc loss=0.021792247891426086,{hms_string(epoch_elapsed)}\n",
            "Epoch 29, gen loss=8.093406677246094,disc loss=0.008084021508693695,{hms_string(epoch_elapsed)}\n",
            "Epoch 30, gen loss=6.438353538513184,disc loss=0.057439252734184265,{hms_string(epoch_elapsed)}\n",
            "Epoch 31, gen loss=9.013005256652832,disc loss=0.03683052584528923,{hms_string(epoch_elapsed)}\n",
            "Epoch 32, gen loss=10.794538497924805,disc loss=0.01169601734727621,{hms_string(epoch_elapsed)}\n",
            "Epoch 33, gen loss=10.130999565124512,disc loss=0.06333263963460922,{hms_string(epoch_elapsed)}\n",
            "Epoch 34, gen loss=10.868399620056152,disc loss=0.01971728913486004,{hms_string(epoch_elapsed)}\n",
            "Epoch 35, gen loss=10.960866928100586,disc loss=0.0023884905967861414,{hms_string(epoch_elapsed)}\n",
            "Epoch 36, gen loss=10.174012184143066,disc loss=0.004492569714784622,{hms_string(epoch_elapsed)}\n",
            "Epoch 37, gen loss=6.552911281585693,disc loss=0.015879983082413673,{hms_string(epoch_elapsed)}\n",
            "Epoch 38, gen loss=9.079200744628906,disc loss=0.005567816086113453,{hms_string(epoch_elapsed)}\n",
            "Epoch 39, gen loss=7.379202842712402,disc loss=0.05340138450264931,{hms_string(epoch_elapsed)}\n",
            "Epoch 40, gen loss=8.204461097717285,disc loss=0.011020742356777191,{hms_string(epoch_elapsed)}\n",
            "Epoch 41, gen loss=10.056205749511719,disc loss=0.015682710334658623,{hms_string(epoch_elapsed)}\n",
            "Epoch 42, gen loss=8.946834564208984,disc loss=0.08221608400344849,{hms_string(epoch_elapsed)}\n",
            "Epoch 43, gen loss=12.16552734375,disc loss=0.10519286245107651,{hms_string(epoch_elapsed)}\n",
            "Epoch 44, gen loss=7.045235633850098,disc loss=0.017808889970183372,{hms_string(epoch_elapsed)}\n",
            "Epoch 45, gen loss=9.628571510314941,disc loss=0.008672945201396942,{hms_string(epoch_elapsed)}\n",
            "Epoch 46, gen loss=10.219879150390625,disc loss=0.001399935339577496,{hms_string(epoch_elapsed)}\n",
            "Epoch 47, gen loss=10.893743515014648,disc loss=0.009505415335297585,{hms_string(epoch_elapsed)}\n",
            "Epoch 48, gen loss=9.923534393310547,disc loss=0.0027353016193956137,{hms_string(epoch_elapsed)}\n",
            "Epoch 49, gen loss=6.952657699584961,disc loss=0.03540872037410736,{hms_string(epoch_elapsed)}\n",
            "Epoch 50, gen loss=8.230895042419434,disc loss=0.01201475877314806,{hms_string(epoch_elapsed)}\n",
            "Epoch 51, gen loss=10.616549491882324,disc loss=0.004460379481315613,{hms_string(epoch_elapsed)}\n",
            "Epoch 52, gen loss=12.883062362670898,disc loss=0.04945376515388489,{hms_string(epoch_elapsed)}\n",
            "Epoch 53, gen loss=8.242277145385742,disc loss=0.02245398983359337,{hms_string(epoch_elapsed)}\n",
            "Epoch 54, gen loss=10.795639038085938,disc loss=0.005841662175953388,{hms_string(epoch_elapsed)}\n",
            "Epoch 55, gen loss=8.2835693359375,disc loss=0.12102818489074707,{hms_string(epoch_elapsed)}\n",
            "Epoch 56, gen loss=12.461084365844727,disc loss=0.012059887871146202,{hms_string(epoch_elapsed)}\n",
            "Epoch 57, gen loss=11.766020774841309,disc loss=0.12532874941825867,{hms_string(epoch_elapsed)}\n",
            "Epoch 58, gen loss=11.225933074951172,disc loss=0.06787760555744171,{hms_string(epoch_elapsed)}\n",
            "Epoch 59, gen loss=9.349103927612305,disc loss=0.3288966417312622,{hms_string(epoch_elapsed)}\n",
            "Epoch 60, gen loss=9.804208755493164,disc loss=0.013052348978817463,{hms_string(epoch_elapsed)}\n",
            "Epoch 61, gen loss=6.005511283874512,disc loss=0.0697396770119667,{hms_string(epoch_elapsed)}\n",
            "Epoch 62, gen loss=8.974328994750977,disc loss=0.0334785021841526,{hms_string(epoch_elapsed)}\n",
            "Epoch 63, gen loss=9.082579612731934,disc loss=0.05860857665538788,{hms_string(epoch_elapsed)}\n",
            "Epoch 64, gen loss=10.168832778930664,disc loss=0.005921735428273678,{hms_string(epoch_elapsed)}\n",
            "Epoch 65, gen loss=7.857836723327637,disc loss=0.050050266087055206,{hms_string(epoch_elapsed)}\n",
            "Epoch 66, gen loss=10.97235107421875,disc loss=0.0034981826320290565,{hms_string(epoch_elapsed)}\n",
            "Epoch 67, gen loss=6.894498825073242,disc loss=0.07915142923593521,{hms_string(epoch_elapsed)}\n",
            "Epoch 68, gen loss=9.309840202331543,disc loss=0.027576252818107605,{hms_string(epoch_elapsed)}\n",
            "Epoch 69, gen loss=10.88326644897461,disc loss=0.01898520067334175,{hms_string(epoch_elapsed)}\n",
            "Epoch 70, gen loss=6.271338939666748,disc loss=0.04260622709989548,{hms_string(epoch_elapsed)}\n",
            "Epoch 71, gen loss=10.054145812988281,disc loss=0.02072518691420555,{hms_string(epoch_elapsed)}\n",
            "Epoch 72, gen loss=9.26557731628418,disc loss=0.05034428462386131,{hms_string(epoch_elapsed)}\n",
            "Epoch 73, gen loss=6.959161758422852,disc loss=0.10730496048927307,{hms_string(epoch_elapsed)}\n",
            "Epoch 74, gen loss=8.625856399536133,disc loss=0.03961845487356186,{hms_string(epoch_elapsed)}\n",
            "Epoch 75, gen loss=11.591270446777344,disc loss=0.03271113336086273,{hms_string(epoch_elapsed)}\n",
            "Epoch 76, gen loss=12.87130355834961,disc loss=0.012832428328692913,{hms_string(epoch_elapsed)}\n",
            "Epoch 77, gen loss=9.22892951965332,disc loss=0.2292700558900833,{hms_string(epoch_elapsed)}\n",
            "Epoch 78, gen loss=11.380916595458984,disc loss=0.01561533473432064,{hms_string(epoch_elapsed)}\n",
            "Epoch 79, gen loss=11.120222091674805,disc loss=0.10607770830392838,{hms_string(epoch_elapsed)}\n",
            "Epoch 80, gen loss=6.811415672302246,disc loss=0.10773339867591858,{hms_string(epoch_elapsed)}\n",
            "Epoch 81, gen loss=10.84433650970459,disc loss=0.21716289222240448,{hms_string(epoch_elapsed)}\n",
            "Epoch 82, gen loss=9.844501495361328,disc loss=0.001981773879379034,{hms_string(epoch_elapsed)}\n",
            "Epoch 83, gen loss=6.26469612121582,disc loss=0.3290732800960541,{hms_string(epoch_elapsed)}\n",
            "Epoch 84, gen loss=12.221580505371094,disc loss=0.017538167536258698,{hms_string(epoch_elapsed)}\n",
            "Epoch 85, gen loss=15.164029121398926,disc loss=0.6194155812263489,{hms_string(epoch_elapsed)}\n",
            "Epoch 86, gen loss=7.925051689147949,disc loss=0.02576153352856636,{hms_string(epoch_elapsed)}\n",
            "Epoch 87, gen loss=4.782278537750244,disc loss=0.21882353723049164,{hms_string(epoch_elapsed)}\n",
            "Epoch 88, gen loss=7.551639556884766,disc loss=0.03200545534491539,{hms_string(epoch_elapsed)}\n",
            "Epoch 89, gen loss=10.596009254455566,disc loss=0.045227888971567154,{hms_string(epoch_elapsed)}\n",
            "Epoch 90, gen loss=9.56808090209961,disc loss=0.09074340015649796,{hms_string(epoch_elapsed)}\n",
            "Epoch 91, gen loss=11.543347358703613,disc loss=0.008047359064221382,{hms_string(epoch_elapsed)}\n",
            "Epoch 92, gen loss=11.681375503540039,disc loss=0.0057259914465248585,{hms_string(epoch_elapsed)}\n",
            "Epoch 93, gen loss=10.331012725830078,disc loss=0.0014620509464293718,{hms_string(epoch_elapsed)}\n",
            "Epoch 94, gen loss=7.530261993408203,disc loss=0.01568196713924408,{hms_string(epoch_elapsed)}\n",
            "Epoch 95, gen loss=7.0425543785095215,disc loss=0.1764490306377411,{hms_string(epoch_elapsed)}\n",
            "Epoch 96, gen loss=10.618535995483398,disc loss=0.05459322780370712,{hms_string(epoch_elapsed)}\n",
            "Epoch 97, gen loss=9.207250595092773,disc loss=0.046070314943790436,{hms_string(epoch_elapsed)}\n",
            "Epoch 98, gen loss=12.735220909118652,disc loss=0.008613619953393936,{hms_string(epoch_elapsed)}\n",
            "Epoch 99, gen loss=9.797761917114258,disc loss=0.009775224141776562,{hms_string(epoch_elapsed)}\n",
            "Epoch 100, gen loss=8.470331192016602,disc loss=0.03157075494527817,{hms_string(epoch_elapsed)}\n",
            "Epoch 101, gen loss=13.316494941711426,disc loss=0.022110728546977043,{hms_string(epoch_elapsed)}\n",
            "Epoch 102, gen loss=8.176130294799805,disc loss=0.014760345220565796,{hms_string(epoch_elapsed)}\n",
            "Epoch 103, gen loss=8.176462173461914,disc loss=0.005063509102910757,{hms_string(epoch_elapsed)}\n",
            "Epoch 104, gen loss=8.19987678527832,disc loss=0.017337985336780548,{hms_string(epoch_elapsed)}\n",
            "Epoch 105, gen loss=7.186793327331543,disc loss=0.1598973274230957,{hms_string(epoch_elapsed)}\n",
            "Epoch 106, gen loss=11.766989707946777,disc loss=0.07854951918125153,{hms_string(epoch_elapsed)}\n",
            "Epoch 107, gen loss=10.256830215454102,disc loss=0.03264892101287842,{hms_string(epoch_elapsed)}\n",
            "Epoch 108, gen loss=10.628608703613281,disc loss=0.02226867713034153,{hms_string(epoch_elapsed)}\n",
            "Epoch 109, gen loss=7.978147506713867,disc loss=0.007018286269158125,{hms_string(epoch_elapsed)}\n",
            "Epoch 110, gen loss=8.535762786865234,disc loss=0.020737672224640846,{hms_string(epoch_elapsed)}\n",
            "Epoch 111, gen loss=5.856976509094238,disc loss=0.1006736010313034,{hms_string(epoch_elapsed)}\n",
            "Epoch 112, gen loss=8.087170600891113,disc loss=0.08147512376308441,{hms_string(epoch_elapsed)}\n",
            "Epoch 113, gen loss=10.031362533569336,disc loss=0.011634538881480694,{hms_string(epoch_elapsed)}\n",
            "Epoch 114, gen loss=8.135848999023438,disc loss=0.061454325914382935,{hms_string(epoch_elapsed)}\n",
            "Epoch 115, gen loss=9.166149139404297,disc loss=0.00990161020308733,{hms_string(epoch_elapsed)}\n",
            "Epoch 116, gen loss=12.731870651245117,disc loss=0.0013038278557360172,{hms_string(epoch_elapsed)}\n",
            "Epoch 117, gen loss=10.267977714538574,disc loss=0.0027302391827106476,{hms_string(epoch_elapsed)}\n",
            "Epoch 118, gen loss=5.652493000030518,disc loss=0.1364753246307373,{hms_string(epoch_elapsed)}\n",
            "Epoch 119, gen loss=12.726295471191406,disc loss=0.03278760612010956,{hms_string(epoch_elapsed)}\n",
            "Epoch 120, gen loss=8.676527976989746,disc loss=0.04232637584209442,{hms_string(epoch_elapsed)}\n",
            "Epoch 121, gen loss=14.321793556213379,disc loss=0.009791959077119827,{hms_string(epoch_elapsed)}\n",
            "Epoch 122, gen loss=8.834959030151367,disc loss=0.016814298927783966,{hms_string(epoch_elapsed)}\n",
            "Epoch 123, gen loss=7.859235763549805,disc loss=0.1574258655309677,{hms_string(epoch_elapsed)}\n",
            "Epoch 124, gen loss=9.068304061889648,disc loss=0.00580968800932169,{hms_string(epoch_elapsed)}\n",
            "Epoch 125, gen loss=7.886291980743408,disc loss=0.19287718832492828,{hms_string(epoch_elapsed)}\n",
            "Epoch 126, gen loss=13.593790054321289,disc loss=0.02313205599784851,{hms_string(epoch_elapsed)}\n",
            "Epoch 127, gen loss=9.951688766479492,disc loss=0.16123603284358978,{hms_string(epoch_elapsed)}\n",
            "Epoch 128, gen loss=8.710905075073242,disc loss=0.004908798262476921,{hms_string(epoch_elapsed)}\n",
            "Epoch 129, gen loss=10.755754470825195,disc loss=0.03343161195516586,{hms_string(epoch_elapsed)}\n",
            "Epoch 130, gen loss=6.761758804321289,disc loss=0.6527968049049377,{hms_string(epoch_elapsed)}\n",
            "Epoch 131, gen loss=15.44736099243164,disc loss=0.8825578689575195,{hms_string(epoch_elapsed)}\n",
            "Epoch 132, gen loss=11.2166748046875,disc loss=0.12409979104995728,{hms_string(epoch_elapsed)}\n",
            "Epoch 133, gen loss=12.337005615234375,disc loss=0.004799309186637402,{hms_string(epoch_elapsed)}\n",
            "Epoch 134, gen loss=10.86993408203125,disc loss=0.15489906072616577,{hms_string(epoch_elapsed)}\n",
            "Epoch 135, gen loss=8.674335479736328,disc loss=0.0917663499712944,{hms_string(epoch_elapsed)}\n",
            "Epoch 136, gen loss=6.427300453186035,disc loss=0.11385821551084518,{hms_string(epoch_elapsed)}\n",
            "Epoch 137, gen loss=10.538375854492188,disc loss=0.28947386145591736,{hms_string(epoch_elapsed)}\n",
            "Epoch 138, gen loss=6.814789772033691,disc loss=0.054541416466236115,{hms_string(epoch_elapsed)}\n",
            "Epoch 139, gen loss=4.041056156158447,disc loss=0.6543764472007751,{hms_string(epoch_elapsed)}\n",
            "Epoch 140, gen loss=18.073503494262695,disc loss=1.1229292154312134,{hms_string(epoch_elapsed)}\n",
            "Epoch 141, gen loss=16.889644622802734,disc loss=0.8204945921897888,{hms_string(epoch_elapsed)}\n",
            "Epoch 142, gen loss=8.710487365722656,disc loss=0.10315929353237152,{hms_string(epoch_elapsed)}\n",
            "Epoch 143, gen loss=7.134703636169434,disc loss=0.0832434818148613,{hms_string(epoch_elapsed)}\n",
            "Epoch 144, gen loss=7.7315874099731445,disc loss=0.005355978384613991,{hms_string(epoch_elapsed)}\n",
            "Epoch 145, gen loss=7.376984596252441,disc loss=0.02660810761153698,{hms_string(epoch_elapsed)}\n",
            "Epoch 146, gen loss=6.543261528015137,disc loss=0.02848556451499462,{hms_string(epoch_elapsed)}\n",
            "Epoch 147, gen loss=8.981331825256348,disc loss=0.01712198555469513,{hms_string(epoch_elapsed)}\n",
            "Epoch 148, gen loss=9.12967300415039,disc loss=0.013073809444904327,{hms_string(epoch_elapsed)}\n",
            "Epoch 149, gen loss=7.0941853523254395,disc loss=0.032579727470874786,{hms_string(epoch_elapsed)}\n",
            "Epoch 150, gen loss=10.011810302734375,disc loss=0.0038776365108788013,{hms_string(epoch_elapsed)}\n",
            "Epoch 151, gen loss=8.191228866577148,disc loss=0.010245060548186302,{hms_string(epoch_elapsed)}\n",
            "Epoch 152, gen loss=10.610769271850586,disc loss=0.027271464467048645,{hms_string(epoch_elapsed)}\n",
            "Epoch 153, gen loss=8.654722213745117,disc loss=0.015720965340733528,{hms_string(epoch_elapsed)}\n",
            "Epoch 154, gen loss=9.13960075378418,disc loss=0.0027335905469954014,{hms_string(epoch_elapsed)}\n",
            "Epoch 155, gen loss=9.941610336303711,disc loss=0.00855990033596754,{hms_string(epoch_elapsed)}\n",
            "Epoch 156, gen loss=8.59225082397461,disc loss=0.012847799807786942,{hms_string(epoch_elapsed)}\n",
            "Epoch 157, gen loss=8.523260116577148,disc loss=0.06031971424818039,{hms_string(epoch_elapsed)}\n",
            "Epoch 158, gen loss=11.637165069580078,disc loss=0.006079517304897308,{hms_string(epoch_elapsed)}\n",
            "Epoch 159, gen loss=14.106925964355469,disc loss=0.02184225246310234,{hms_string(epoch_elapsed)}\n",
            "Epoch 160, gen loss=13.025184631347656,disc loss=0.01884951815009117,{hms_string(epoch_elapsed)}\n",
            "Epoch 161, gen loss=6.626681327819824,disc loss=0.044292330741882324,{hms_string(epoch_elapsed)}\n",
            "Epoch 162, gen loss=8.828856468200684,disc loss=0.010668952018022537,{hms_string(epoch_elapsed)}\n",
            "Epoch 163, gen loss=8.945932388305664,disc loss=0.02274853177368641,{hms_string(epoch_elapsed)}\n",
            "Epoch 164, gen loss=8.06684684753418,disc loss=0.02023502066731453,{hms_string(epoch_elapsed)}\n",
            "Epoch 165, gen loss=6.956012725830078,disc loss=0.016021432355046272,{hms_string(epoch_elapsed)}\n",
            "Epoch 166, gen loss=7.928328990936279,disc loss=0.030827347189188004,{hms_string(epoch_elapsed)}\n",
            "Epoch 167, gen loss=7.315854072570801,disc loss=0.017717255279421806,{hms_string(epoch_elapsed)}\n",
            "Epoch 168, gen loss=8.308252334594727,disc loss=0.06109508126974106,{hms_string(epoch_elapsed)}\n",
            "Epoch 169, gen loss=5.779372215270996,disc loss=0.10649626702070236,{hms_string(epoch_elapsed)}\n",
            "Epoch 170, gen loss=11.052602767944336,disc loss=0.06261029094457626,{hms_string(epoch_elapsed)}\n",
            "Epoch 171, gen loss=12.931096076965332,disc loss=0.09750349074602127,{hms_string(epoch_elapsed)}\n",
            "Epoch 172, gen loss=7.800527095794678,disc loss=0.03070433996617794,{hms_string(epoch_elapsed)}\n",
            "Epoch 173, gen loss=6.984253883361816,disc loss=0.0327395424246788,{hms_string(epoch_elapsed)}\n",
            "Epoch 174, gen loss=8.60716438293457,disc loss=0.018474701792001724,{hms_string(epoch_elapsed)}\n",
            "Epoch 175, gen loss=8.031944274902344,disc loss=0.03567710518836975,{hms_string(epoch_elapsed)}\n",
            "Epoch 176, gen loss=8.935905456542969,disc loss=0.04232211783528328,{hms_string(epoch_elapsed)}\n",
            "Epoch 177, gen loss=8.614812850952148,disc loss=0.011471831239759922,{hms_string(epoch_elapsed)}\n",
            "Epoch 178, gen loss=8.575246810913086,disc loss=0.007659905590116978,{hms_string(epoch_elapsed)}\n",
            "Epoch 179, gen loss=8.264453887939453,disc loss=0.017076820135116577,{hms_string(epoch_elapsed)}\n",
            "Epoch 180, gen loss=7.688856601715088,disc loss=0.015331871807575226,{hms_string(epoch_elapsed)}\n",
            "Epoch 181, gen loss=7.082799434661865,disc loss=0.029885008931159973,{hms_string(epoch_elapsed)}\n",
            "Epoch 182, gen loss=9.751325607299805,disc loss=0.10564997792243958,{hms_string(epoch_elapsed)}\n",
            "Epoch 183, gen loss=7.830409049987793,disc loss=0.0861685648560524,{hms_string(epoch_elapsed)}\n",
            "Epoch 184, gen loss=11.673942565917969,disc loss=0.012103392742574215,{hms_string(epoch_elapsed)}\n",
            "Epoch 185, gen loss=9.304516792297363,disc loss=0.08020607382059097,{hms_string(epoch_elapsed)}\n",
            "Epoch 186, gen loss=4.99186897277832,disc loss=0.20222552120685577,{hms_string(epoch_elapsed)}\n",
            "Epoch 187, gen loss=12.45003890991211,disc loss=0.4488498568534851,{hms_string(epoch_elapsed)}\n",
            "Epoch 188, gen loss=10.806739807128906,disc loss=0.1443520039319992,{hms_string(epoch_elapsed)}\n",
            "Epoch 189, gen loss=4.604769229888916,disc loss=0.27845439314842224,{hms_string(epoch_elapsed)}\n",
            "Epoch 190, gen loss=14.080371856689453,disc loss=0.11686882376670837,{hms_string(epoch_elapsed)}\n",
            "Epoch 191, gen loss=14.010028839111328,disc loss=0.01358434371650219,{hms_string(epoch_elapsed)}\n",
            "Epoch 192, gen loss=10.825948715209961,disc loss=0.003109691198915243,{hms_string(epoch_elapsed)}\n",
            "Epoch 193, gen loss=10.604145050048828,disc loss=0.007745821960270405,{hms_string(epoch_elapsed)}\n",
            "Epoch 194, gen loss=9.98304557800293,disc loss=0.019999369978904724,{hms_string(epoch_elapsed)}\n",
            "Epoch 195, gen loss=8.28303337097168,disc loss=0.012776408344507217,{hms_string(epoch_elapsed)}\n",
            "Epoch 196, gen loss=11.689813613891602,disc loss=0.006891297176480293,{hms_string(epoch_elapsed)}\n",
            "Epoch 197, gen loss=8.831936836242676,disc loss=0.06443589925765991,{hms_string(epoch_elapsed)}\n",
            "Epoch 198, gen loss=12.956830024719238,disc loss=0.008822450414299965,{hms_string(epoch_elapsed)}\n",
            "Epoch 199, gen loss=9.994962692260742,disc loss=0.11942268908023834,{hms_string(epoch_elapsed)}\n",
            "Epoch 200, gen loss=6.708093166351318,disc loss=0.08859682083129883,{hms_string(epoch_elapsed)}\n",
            "Epoch 201, gen loss=10.394306182861328,disc loss=0.005512399598956108,{hms_string(epoch_elapsed)}\n",
            "Epoch 202, gen loss=11.193126678466797,disc loss=0.028155315667390823,{hms_string(epoch_elapsed)}\n",
            "Epoch 203, gen loss=10.340385437011719,disc loss=0.03686513751745224,{hms_string(epoch_elapsed)}\n",
            "Epoch 204, gen loss=10.408236503601074,disc loss=0.04779824987053871,{hms_string(epoch_elapsed)}\n",
            "Epoch 205, gen loss=6.715868949890137,disc loss=0.06653891503810883,{hms_string(epoch_elapsed)}\n",
            "Epoch 206, gen loss=11.532312393188477,disc loss=0.003587450599297881,{hms_string(epoch_elapsed)}\n",
            "Epoch 207, gen loss=10.814627647399902,disc loss=0.02209070324897766,{hms_string(epoch_elapsed)}\n",
            "Epoch 208, gen loss=8.965913772583008,disc loss=0.15521058440208435,{hms_string(epoch_elapsed)}\n",
            "Epoch 209, gen loss=10.56568717956543,disc loss=0.017436474561691284,{hms_string(epoch_elapsed)}\n",
            "Epoch 210, gen loss=9.659762382507324,disc loss=0.27170443534851074,{hms_string(epoch_elapsed)}\n",
            "Epoch 211, gen loss=5.6576433181762695,disc loss=0.15069188177585602,{hms_string(epoch_elapsed)}\n",
            "Epoch 212, gen loss=11.40666389465332,disc loss=0.33707141876220703,{hms_string(epoch_elapsed)}\n",
            "Epoch 213, gen loss=12.66561508178711,disc loss=0.0273683313280344,{hms_string(epoch_elapsed)}\n",
            "Epoch 214, gen loss=9.787101745605469,disc loss=0.004349179565906525,{hms_string(epoch_elapsed)}\n",
            "Epoch 215, gen loss=7.620584487915039,disc loss=0.120135597884655,{hms_string(epoch_elapsed)}\n",
            "Epoch 216, gen loss=12.08786678314209,disc loss=0.05383690446615219,{hms_string(epoch_elapsed)}\n",
            "Epoch 217, gen loss=9.560253143310547,disc loss=0.023148009553551674,{hms_string(epoch_elapsed)}\n",
            "Epoch 218, gen loss=11.715421676635742,disc loss=0.0036665801890194416,{hms_string(epoch_elapsed)}\n",
            "Epoch 219, gen loss=10.133718490600586,disc loss=0.0064295572228729725,{hms_string(epoch_elapsed)}\n",
            "Epoch 220, gen loss=11.613845825195312,disc loss=0.032586388289928436,{hms_string(epoch_elapsed)}\n",
            "Epoch 221, gen loss=9.770849227905273,disc loss=0.0021690083667635918,{hms_string(epoch_elapsed)}\n",
            "Epoch 222, gen loss=7.355436325073242,disc loss=0.38668543100357056,{hms_string(epoch_elapsed)}\n",
            "Epoch 223, gen loss=14.672539710998535,disc loss=0.654607355594635,{hms_string(epoch_elapsed)}\n",
            "Epoch 224, gen loss=9.785442352294922,disc loss=0.16390472650527954,{hms_string(epoch_elapsed)}\n",
            "Epoch 225, gen loss=6.099469184875488,disc loss=0.5446515083312988,{hms_string(epoch_elapsed)}\n",
            "Epoch 226, gen loss=13.14195442199707,disc loss=0.21257486939430237,{hms_string(epoch_elapsed)}\n",
            "Epoch 227, gen loss=12.987844467163086,disc loss=0.34796637296676636,{hms_string(epoch_elapsed)}\n",
            "Epoch 228, gen loss=9.91305160522461,disc loss=0.00169232371263206,{hms_string(epoch_elapsed)}\n",
            "Epoch 229, gen loss=7.398595809936523,disc loss=0.04154038056731224,{hms_string(epoch_elapsed)}\n",
            "Epoch 230, gen loss=7.724360466003418,disc loss=0.018352581188082695,{hms_string(epoch_elapsed)}\n",
            "Epoch 231, gen loss=6.614650249481201,disc loss=0.13954991102218628,{hms_string(epoch_elapsed)}\n",
            "Epoch 232, gen loss=10.607267379760742,disc loss=0.02271292544901371,{hms_string(epoch_elapsed)}\n",
            "Epoch 233, gen loss=10.413503646850586,disc loss=0.030728310346603394,{hms_string(epoch_elapsed)}\n",
            "Epoch 234, gen loss=10.574382781982422,disc loss=0.031643692404031754,{hms_string(epoch_elapsed)}\n",
            "Epoch 235, gen loss=7.511421203613281,disc loss=0.024826718494296074,{hms_string(epoch_elapsed)}\n",
            "Epoch 236, gen loss=8.488946914672852,disc loss=0.09920694679021835,{hms_string(epoch_elapsed)}\n",
            "Epoch 237, gen loss=13.088906288146973,disc loss=0.18434743583202362,{hms_string(epoch_elapsed)}\n",
            "Epoch 238, gen loss=9.452642440795898,disc loss=0.01071849837899208,{hms_string(epoch_elapsed)}\n",
            "Epoch 239, gen loss=9.002012252807617,disc loss=0.010094611905515194,{hms_string(epoch_elapsed)}\n",
            "Epoch 240, gen loss=8.524710655212402,disc loss=0.01269733440130949,{hms_string(epoch_elapsed)}\n",
            "Epoch 241, gen loss=6.312852382659912,disc loss=0.39577385783195496,{hms_string(epoch_elapsed)}\n",
            "Epoch 242, gen loss=16.750831604003906,disc loss=0.778171718120575,{hms_string(epoch_elapsed)}\n",
            "Epoch 243, gen loss=7.572511196136475,disc loss=0.022457649931311607,{hms_string(epoch_elapsed)}\n",
            "Epoch 244, gen loss=10.951432228088379,disc loss=0.009939046576619148,{hms_string(epoch_elapsed)}\n",
            "Epoch 245, gen loss=6.332448959350586,disc loss=0.4161866307258606,{hms_string(epoch_elapsed)}\n",
            "Epoch 246, gen loss=14.309270858764648,disc loss=0.7707017660140991,{hms_string(epoch_elapsed)}\n",
            "Epoch 247, gen loss=7.577979564666748,disc loss=0.05614127963781357,{hms_string(epoch_elapsed)}\n",
            "Epoch 248, gen loss=4.803359031677246,disc loss=0.30457326769828796,{hms_string(epoch_elapsed)}\n",
            "Epoch 249, gen loss=13.06178092956543,disc loss=0.370968759059906,{hms_string(epoch_elapsed)}\n",
            "Epoch 250, gen loss=10.132944107055664,disc loss=0.18538735806941986,{hms_string(epoch_elapsed)}\n",
            "Epoch 251, gen loss=8.196514129638672,disc loss=0.42534875869750977,{hms_string(epoch_elapsed)}\n",
            "Epoch 252, gen loss=14.328128814697266,disc loss=0.17536574602127075,{hms_string(epoch_elapsed)}\n",
            "Epoch 253, gen loss=11.265541076660156,disc loss=0.016155481338500977,{hms_string(epoch_elapsed)}\n",
            "Epoch 254, gen loss=11.441690444946289,disc loss=0.024684283882379532,{hms_string(epoch_elapsed)}\n",
            "Epoch 255, gen loss=9.2334623336792,disc loss=0.039824921637773514,{hms_string(epoch_elapsed)}\n",
            "Epoch 256, gen loss=8.245359420776367,disc loss=0.14126814901828766,{hms_string(epoch_elapsed)}\n",
            "Epoch 257, gen loss=12.751879692077637,disc loss=0.1973249316215515,{hms_string(epoch_elapsed)}\n",
            "Epoch 258, gen loss=11.793672561645508,disc loss=0.0013119432842358947,{hms_string(epoch_elapsed)}\n",
            "Epoch 259, gen loss=9.113540649414062,disc loss=0.007961737923324108,{hms_string(epoch_elapsed)}\n",
            "Epoch 260, gen loss=7.440614223480225,disc loss=0.029979858547449112,{hms_string(epoch_elapsed)}\n",
            "Epoch 261, gen loss=7.3479413986206055,disc loss=0.027631642296910286,{hms_string(epoch_elapsed)}\n",
            "Epoch 262, gen loss=5.116156101226807,disc loss=0.21836242079734802,{hms_string(epoch_elapsed)}\n",
            "Epoch 263, gen loss=12.130023956298828,disc loss=0.1432882398366928,{hms_string(epoch_elapsed)}\n",
            "Epoch 264, gen loss=15.14272689819336,disc loss=0.05409057065844536,{hms_string(epoch_elapsed)}\n",
            "Epoch 265, gen loss=7.806923866271973,disc loss=0.013680613599717617,{hms_string(epoch_elapsed)}\n",
            "Epoch 266, gen loss=7.999851703643799,disc loss=0.006786984857171774,{hms_string(epoch_elapsed)}\n",
            "Epoch 267, gen loss=9.725183486938477,disc loss=0.005016383249312639,{hms_string(epoch_elapsed)}\n",
            "Epoch 268, gen loss=7.481240749359131,disc loss=0.02079828642308712,{hms_string(epoch_elapsed)}\n",
            "Epoch 269, gen loss=9.502431869506836,disc loss=0.005389371421188116,{hms_string(epoch_elapsed)}\n",
            "Epoch 270, gen loss=6.580959320068359,disc loss=0.017398178577423096,{hms_string(epoch_elapsed)}\n",
            "Epoch 271, gen loss=9.570903778076172,disc loss=0.011911674402654171,{hms_string(epoch_elapsed)}\n",
            "Epoch 272, gen loss=9.417234420776367,disc loss=0.006368180271238089,{hms_string(epoch_elapsed)}\n",
            "Epoch 273, gen loss=7.997181415557861,disc loss=0.02813495695590973,{hms_string(epoch_elapsed)}\n",
            "Epoch 274, gen loss=9.549215316772461,disc loss=0.028403284028172493,{hms_string(epoch_elapsed)}\n",
            "Epoch 275, gen loss=8.50863265991211,disc loss=0.02870185673236847,{hms_string(epoch_elapsed)}\n",
            "Epoch 276, gen loss=8.109048843383789,disc loss=0.03494739532470703,{hms_string(epoch_elapsed)}\n",
            "Epoch 277, gen loss=8.232524871826172,disc loss=0.03999929875135422,{hms_string(epoch_elapsed)}\n",
            "Epoch 278, gen loss=8.996981620788574,disc loss=0.031839583069086075,{hms_string(epoch_elapsed)}\n",
            "Epoch 279, gen loss=9.205053329467773,disc loss=0.007612321525812149,{hms_string(epoch_elapsed)}\n",
            "Epoch 280, gen loss=11.771934509277344,disc loss=0.008057775907218456,{hms_string(epoch_elapsed)}\n",
            "Epoch 281, gen loss=9.106593132019043,disc loss=0.016060594469308853,{hms_string(epoch_elapsed)}\n",
            "Epoch 282, gen loss=7.196870803833008,disc loss=0.005397520959377289,{hms_string(epoch_elapsed)}\n",
            "Epoch 283, gen loss=10.45112419128418,disc loss=0.004122655838727951,{hms_string(epoch_elapsed)}\n",
            "Epoch 284, gen loss=8.329103469848633,disc loss=0.05316634848713875,{hms_string(epoch_elapsed)}\n",
            "Epoch 285, gen loss=10.658940315246582,disc loss=0.029954714700579643,{hms_string(epoch_elapsed)}\n",
            "Epoch 286, gen loss=10.357622146606445,disc loss=0.13635453581809998,{hms_string(epoch_elapsed)}\n",
            "Epoch 287, gen loss=6.890073299407959,disc loss=0.1607363224029541,{hms_string(epoch_elapsed)}\n",
            "Epoch 288, gen loss=11.464290618896484,disc loss=0.0653727799654007,{hms_string(epoch_elapsed)}\n",
            "Epoch 289, gen loss=10.854759216308594,disc loss=0.0952187329530716,{hms_string(epoch_elapsed)}\n",
            "Epoch 290, gen loss=11.390508651733398,disc loss=0.005335255991667509,{hms_string(epoch_elapsed)}\n",
            "Epoch 291, gen loss=8.106739044189453,disc loss=0.03020518273115158,{hms_string(epoch_elapsed)}\n",
            "Epoch 292, gen loss=8.116188049316406,disc loss=0.03205372393131256,{hms_string(epoch_elapsed)}\n",
            "Epoch 293, gen loss=9.279624938964844,disc loss=0.019717486575245857,{hms_string(epoch_elapsed)}\n",
            "Epoch 294, gen loss=7.575070858001709,disc loss=0.08138415962457657,{hms_string(epoch_elapsed)}\n",
            "Epoch 295, gen loss=14.041885375976562,disc loss=0.08078812807798386,{hms_string(epoch_elapsed)}\n",
            "Epoch 296, gen loss=12.657975196838379,disc loss=0.05468057841062546,{hms_string(epoch_elapsed)}\n",
            "Epoch 297, gen loss=7.9511871337890625,disc loss=0.347784161567688,{hms_string(epoch_elapsed)}\n",
            "Epoch 298, gen loss=15.953372955322266,disc loss=0.22038540244102478,{hms_string(epoch_elapsed)}\n",
            "Epoch 299, gen loss=11.42591667175293,disc loss=0.335565984249115,{hms_string(epoch_elapsed)}\n",
            "Epoch 300, gen loss=7.730105876922607,disc loss=0.26629379391670227,{hms_string(epoch_elapsed)}\n",
            "Epoch 301, gen loss=8.927116394042969,disc loss=0.006526087876409292,{hms_string(epoch_elapsed)}\n",
            "Epoch 302, gen loss=9.979863166809082,disc loss=0.03441881760954857,{hms_string(epoch_elapsed)}\n",
            "Epoch 303, gen loss=8.305948257446289,disc loss=0.031009776517748833,{hms_string(epoch_elapsed)}\n",
            "Epoch 304, gen loss=10.450959205627441,disc loss=0.027045026421546936,{hms_string(epoch_elapsed)}\n",
            "Epoch 305, gen loss=11.645588874816895,disc loss=0.00879924837499857,{hms_string(epoch_elapsed)}\n",
            "Epoch 306, gen loss=11.629032135009766,disc loss=0.03543154522776604,{hms_string(epoch_elapsed)}\n",
            "Epoch 307, gen loss=11.958479881286621,disc loss=0.03727811202406883,{hms_string(epoch_elapsed)}\n",
            "Epoch 308, gen loss=8.509716033935547,disc loss=0.046034738421440125,{hms_string(epoch_elapsed)}\n",
            "Epoch 309, gen loss=9.097270011901855,disc loss=0.12039481103420258,{hms_string(epoch_elapsed)}\n",
            "Epoch 310, gen loss=8.251222610473633,disc loss=0.07550561428070068,{hms_string(epoch_elapsed)}\n",
            "Epoch 311, gen loss=10.606301307678223,disc loss=0.009081671014428139,{hms_string(epoch_elapsed)}\n",
            "Epoch 312, gen loss=8.321022033691406,disc loss=0.10541431605815887,{hms_string(epoch_elapsed)}\n",
            "Epoch 313, gen loss=9.832983016967773,disc loss=0.007530347444117069,{hms_string(epoch_elapsed)}\n",
            "Epoch 314, gen loss=9.92933464050293,disc loss=0.0009832186624407768,{hms_string(epoch_elapsed)}\n",
            "Epoch 315, gen loss=7.696069717407227,disc loss=0.013822726905345917,{hms_string(epoch_elapsed)}\n",
            "Epoch 316, gen loss=7.218788146972656,disc loss=0.04947783425450325,{hms_string(epoch_elapsed)}\n",
            "Epoch 317, gen loss=8.987284660339355,disc loss=0.024317666888237,{hms_string(epoch_elapsed)}\n",
            "Epoch 318, gen loss=13.152093887329102,disc loss=0.1394447535276413,{hms_string(epoch_elapsed)}\n",
            "Epoch 319, gen loss=9.32949447631836,disc loss=0.008501487784087658,{hms_string(epoch_elapsed)}\n",
            "Epoch 320, gen loss=9.699016571044922,disc loss=0.017593475058674812,{hms_string(epoch_elapsed)}\n",
            "Epoch 321, gen loss=8.52680492401123,disc loss=0.023287707939743996,{hms_string(epoch_elapsed)}\n",
            "Epoch 322, gen loss=8.306079864501953,disc loss=0.004663039464503527,{hms_string(epoch_elapsed)}\n",
            "Epoch 323, gen loss=8.644613265991211,disc loss=0.005099025089293718,{hms_string(epoch_elapsed)}\n",
            "Epoch 324, gen loss=10.311779022216797,disc loss=0.009022179059684277,{hms_string(epoch_elapsed)}\n",
            "Epoch 325, gen loss=9.085086822509766,disc loss=0.009726855903863907,{hms_string(epoch_elapsed)}\n",
            "Epoch 326, gen loss=7.933530330657959,disc loss=0.019067056477069855,{hms_string(epoch_elapsed)}\n",
            "Epoch 327, gen loss=9.90884017944336,disc loss=0.003923344891518354,{hms_string(epoch_elapsed)}\n",
            "Epoch 328, gen loss=9.886747360229492,disc loss=0.01626414805650711,{hms_string(epoch_elapsed)}\n",
            "Epoch 329, gen loss=9.048141479492188,disc loss=0.02178218588232994,{hms_string(epoch_elapsed)}\n",
            "Epoch 330, gen loss=11.011630058288574,disc loss=0.007399562746286392,{hms_string(epoch_elapsed)}\n",
            "Epoch 331, gen loss=7.701275825500488,disc loss=0.12151484191417694,{hms_string(epoch_elapsed)}\n",
            "Epoch 332, gen loss=10.390854835510254,disc loss=0.01289428025484085,{hms_string(epoch_elapsed)}\n",
            "Epoch 333, gen loss=8.303177833557129,disc loss=0.019091634079813957,{hms_string(epoch_elapsed)}\n",
            "Epoch 334, gen loss=8.66008472442627,disc loss=0.021549008786678314,{hms_string(epoch_elapsed)}\n",
            "Epoch 335, gen loss=8.176287651062012,disc loss=0.06744424998760223,{hms_string(epoch_elapsed)}\n",
            "Epoch 336, gen loss=12.737902641296387,disc loss=0.051221657544374466,{hms_string(epoch_elapsed)}\n",
            "Epoch 337, gen loss=14.126564025878906,disc loss=0.07356111705303192,{hms_string(epoch_elapsed)}\n",
            "Epoch 338, gen loss=8.589037895202637,disc loss=0.02409319393336773,{hms_string(epoch_elapsed)}\n",
            "Epoch 339, gen loss=7.4025163650512695,disc loss=0.024033743888139725,{hms_string(epoch_elapsed)}\n",
            "Epoch 340, gen loss=6.4355950355529785,disc loss=0.17108795046806335,{hms_string(epoch_elapsed)}\n",
            "Epoch 341, gen loss=10.315987586975098,disc loss=0.03794076293706894,{hms_string(epoch_elapsed)}\n",
            "Epoch 342, gen loss=11.73811149597168,disc loss=0.3589390814304352,{hms_string(epoch_elapsed)}\n",
            "Epoch 343, gen loss=9.086197853088379,disc loss=0.06951653212308884,{hms_string(epoch_elapsed)}\n",
            "Epoch 344, gen loss=10.277243614196777,disc loss=0.008161976002156734,{hms_string(epoch_elapsed)}\n",
            "Epoch 345, gen loss=11.054430961608887,disc loss=0.02289707586169243,{hms_string(epoch_elapsed)}\n",
            "Epoch 346, gen loss=9.61243724822998,disc loss=0.041560135781764984,{hms_string(epoch_elapsed)}\n",
            "Epoch 347, gen loss=8.348398208618164,disc loss=0.02485245279967785,{hms_string(epoch_elapsed)}\n",
            "Epoch 348, gen loss=8.350796699523926,disc loss=0.02413051202893257,{hms_string(epoch_elapsed)}\n",
            "Epoch 349, gen loss=12.000631332397461,disc loss=0.006792970933020115,{hms_string(epoch_elapsed)}\n",
            "Epoch 350, gen loss=8.765138626098633,disc loss=0.022419724613428116,{hms_string(epoch_elapsed)}\n",
            "Epoch 351, gen loss=8.136455535888672,disc loss=0.11909795552492142,{hms_string(epoch_elapsed)}\n",
            "Epoch 352, gen loss=14.457796096801758,disc loss=0.2489222288131714,{hms_string(epoch_elapsed)}\n",
            "Epoch 353, gen loss=10.054072380065918,disc loss=0.0168423093855381,{hms_string(epoch_elapsed)}\n",
            "Epoch 354, gen loss=6.638034820556641,disc loss=0.0470099076628685,{hms_string(epoch_elapsed)}\n",
            "Epoch 355, gen loss=8.652753829956055,disc loss=0.04750138521194458,{hms_string(epoch_elapsed)}\n",
            "Epoch 356, gen loss=8.52279281616211,disc loss=0.03520902991294861,{hms_string(epoch_elapsed)}\n",
            "Epoch 357, gen loss=13.37076187133789,disc loss=0.10473407804965973,{hms_string(epoch_elapsed)}\n",
            "Epoch 358, gen loss=8.327624320983887,disc loss=0.04667772352695465,{hms_string(epoch_elapsed)}\n",
            "Epoch 359, gen loss=9.414669036865234,disc loss=0.015566912479698658,{hms_string(epoch_elapsed)}\n",
            "Epoch 360, gen loss=8.158937454223633,disc loss=0.01696595922112465,{hms_string(epoch_elapsed)}\n",
            "Epoch 361, gen loss=8.089183807373047,disc loss=0.0105082206428051,{hms_string(epoch_elapsed)}\n",
            "Epoch 362, gen loss=7.0708112716674805,disc loss=0.09467045962810516,{hms_string(epoch_elapsed)}\n",
            "Epoch 363, gen loss=11.969955444335938,disc loss=0.0216349009424448,{hms_string(epoch_elapsed)}\n",
            "Epoch 364, gen loss=10.9010648727417,disc loss=0.054241348057985306,{hms_string(epoch_elapsed)}\n",
            "Epoch 365, gen loss=9.862783432006836,disc loss=0.014412780292332172,{hms_string(epoch_elapsed)}\n",
            "Epoch 366, gen loss=7.407424449920654,disc loss=0.2812082767486572,{hms_string(epoch_elapsed)}\n",
            "Epoch 367, gen loss=12.243427276611328,disc loss=0.058409612625837326,{hms_string(epoch_elapsed)}\n",
            "Epoch 368, gen loss=10.449186325073242,disc loss=0.06816139072179794,{hms_string(epoch_elapsed)}\n",
            "Epoch 369, gen loss=11.071477890014648,disc loss=0.00962414126843214,{hms_string(epoch_elapsed)}\n",
            "Epoch 370, gen loss=9.026134490966797,disc loss=0.003739474341273308,{hms_string(epoch_elapsed)}\n",
            "Epoch 371, gen loss=9.856603622436523,disc loss=0.0016763649182394147,{hms_string(epoch_elapsed)}\n",
            "Epoch 372, gen loss=7.437526702880859,disc loss=0.022245891392230988,{hms_string(epoch_elapsed)}\n",
            "Epoch 373, gen loss=7.674768447875977,disc loss=0.004826250020414591,{hms_string(epoch_elapsed)}\n",
            "Epoch 374, gen loss=6.750749588012695,disc loss=0.01566419005393982,{hms_string(epoch_elapsed)}\n",
            "Epoch 375, gen loss=8.045771598815918,disc loss=0.014394963160157204,{hms_string(epoch_elapsed)}\n",
            "Epoch 376, gen loss=7.991151332855225,disc loss=0.008404138498008251,{hms_string(epoch_elapsed)}\n",
            "Epoch 377, gen loss=9.148874282836914,disc loss=0.046899858862161636,{hms_string(epoch_elapsed)}\n",
            "Epoch 378, gen loss=9.880895614624023,disc loss=0.02415480837225914,{hms_string(epoch_elapsed)}\n",
            "Epoch 379, gen loss=8.99027156829834,disc loss=0.006604753900319338,{hms_string(epoch_elapsed)}\n",
            "Epoch 380, gen loss=9.73076343536377,disc loss=0.019749747589230537,{hms_string(epoch_elapsed)}\n",
            "Epoch 381, gen loss=7.504995346069336,disc loss=0.24657531082630157,{hms_string(epoch_elapsed)}\n",
            "Epoch 382, gen loss=14.324569702148438,disc loss=0.545212984085083,{hms_string(epoch_elapsed)}\n",
            "Epoch 383, gen loss=11.046265602111816,disc loss=0.04058954492211342,{hms_string(epoch_elapsed)}\n",
            "Epoch 384, gen loss=6.804877281188965,disc loss=0.16205419600009918,{hms_string(epoch_elapsed)}\n",
            "Epoch 385, gen loss=12.63418960571289,disc loss=0.05954675376415253,{hms_string(epoch_elapsed)}\n",
            "Epoch 386, gen loss=13.802867889404297,disc loss=0.032365456223487854,{hms_string(epoch_elapsed)}\n",
            "Epoch 387, gen loss=11.185904502868652,disc loss=0.018610302358865738,{hms_string(epoch_elapsed)}\n",
            "Epoch 388, gen loss=8.20057487487793,disc loss=0.01478666253387928,{hms_string(epoch_elapsed)}\n",
            "Epoch 389, gen loss=7.74681282043457,disc loss=0.01828996278345585,{hms_string(epoch_elapsed)}\n",
            "Epoch 390, gen loss=7.61929178237915,disc loss=0.014659976586699486,{hms_string(epoch_elapsed)}\n",
            "Epoch 391, gen loss=8.07852554321289,disc loss=0.03169596195220947,{hms_string(epoch_elapsed)}\n",
            "Epoch 392, gen loss=8.4244384765625,disc loss=0.05444476008415222,{hms_string(epoch_elapsed)}\n",
            "Epoch 393, gen loss=9.428852081298828,disc loss=0.027946310117840767,{hms_string(epoch_elapsed)}\n",
            "Epoch 394, gen loss=11.992624282836914,disc loss=0.04544047266244888,{hms_string(epoch_elapsed)}\n",
            "Epoch 395, gen loss=7.739972114562988,disc loss=0.0612674355506897,{hms_string(epoch_elapsed)}\n",
            "Epoch 396, gen loss=9.53645133972168,disc loss=0.019453994929790497,{hms_string(epoch_elapsed)}\n",
            "Epoch 397, gen loss=9.991619110107422,disc loss=0.006668970920145512,{hms_string(epoch_elapsed)}\n",
            "Epoch 398, gen loss=10.472261428833008,disc loss=0.10108984261751175,{hms_string(epoch_elapsed)}\n",
            "Epoch 399, gen loss=8.053539276123047,disc loss=0.005927379243075848,{hms_string(epoch_elapsed)}\n",
            "Epoch 400, gen loss=5.398042678833008,disc loss=0.10448518395423889,{hms_string(epoch_elapsed)}\n",
            "Epoch 401, gen loss=6.459081649780273,disc loss=0.17941735684871674,{hms_string(epoch_elapsed)}\n",
            "Epoch 402, gen loss=13.318446159362793,disc loss=0.09864993393421173,{hms_string(epoch_elapsed)}\n",
            "Epoch 403, gen loss=10.092997550964355,disc loss=0.07521965354681015,{hms_string(epoch_elapsed)}\n",
            "Epoch 404, gen loss=6.724801063537598,disc loss=0.2381105124950409,{hms_string(epoch_elapsed)}\n",
            "Epoch 405, gen loss=12.43425178527832,disc loss=0.08998258411884308,{hms_string(epoch_elapsed)}\n",
            "Epoch 406, gen loss=9.393781661987305,disc loss=0.004591408651322126,{hms_string(epoch_elapsed)}\n",
            "Epoch 407, gen loss=11.264183044433594,disc loss=0.06368030607700348,{hms_string(epoch_elapsed)}\n",
            "Epoch 408, gen loss=10.518186569213867,disc loss=0.001539728487841785,{hms_string(epoch_elapsed)}\n",
            "Epoch 409, gen loss=10.66522216796875,disc loss=0.002132251625880599,{hms_string(epoch_elapsed)}\n",
            "Epoch 410, gen loss=6.573243618011475,disc loss=0.03416232019662857,{hms_string(epoch_elapsed)}\n",
            "Epoch 411, gen loss=8.06222152709961,disc loss=0.007266641594469547,{hms_string(epoch_elapsed)}\n",
            "Epoch 412, gen loss=8.737663269042969,disc loss=0.005838014185428619,{hms_string(epoch_elapsed)}\n",
            "Epoch 413, gen loss=9.255208969116211,disc loss=0.013730769976973534,{hms_string(epoch_elapsed)}\n",
            "Epoch 414, gen loss=6.478696823120117,disc loss=0.03531164675951004,{hms_string(epoch_elapsed)}\n",
            "Epoch 415, gen loss=11.102931022644043,disc loss=0.013536503538489342,{hms_string(epoch_elapsed)}\n",
            "Epoch 416, gen loss=8.438098907470703,disc loss=0.010429655201733112,{hms_string(epoch_elapsed)}\n",
            "Epoch 417, gen loss=10.072357177734375,disc loss=0.00422322005033493,{hms_string(epoch_elapsed)}\n",
            "Epoch 418, gen loss=9.717977523803711,disc loss=0.024476252496242523,{hms_string(epoch_elapsed)}\n",
            "Epoch 419, gen loss=12.957202911376953,disc loss=0.01280900463461876,{hms_string(epoch_elapsed)}\n",
            "Epoch 420, gen loss=12.770450592041016,disc loss=0.008384172804653645,{hms_string(epoch_elapsed)}\n",
            "Epoch 421, gen loss=11.17071533203125,disc loss=0.009355679154396057,{hms_string(epoch_elapsed)}\n",
            "Epoch 422, gen loss=8.102692604064941,disc loss=0.02041233517229557,{hms_string(epoch_elapsed)}\n",
            "Epoch 423, gen loss=9.346559524536133,disc loss=0.0325302891433239,{hms_string(epoch_elapsed)}\n",
            "Epoch 424, gen loss=8.524520874023438,disc loss=0.006203182507306337,{hms_string(epoch_elapsed)}\n",
            "Epoch 425, gen loss=8.717334747314453,disc loss=0.00934341736137867,{hms_string(epoch_elapsed)}\n",
            "Epoch 426, gen loss=8.310845375061035,disc loss=0.022210797294974327,{hms_string(epoch_elapsed)}\n",
            "Epoch 427, gen loss=8.25360107421875,disc loss=0.023655014112591743,{hms_string(epoch_elapsed)}\n",
            "Epoch 428, gen loss=9.632282257080078,disc loss=0.018363263458013535,{hms_string(epoch_elapsed)}\n",
            "Epoch 429, gen loss=10.893714904785156,disc loss=0.015108139254152775,{hms_string(epoch_elapsed)}\n",
            "Epoch 430, gen loss=8.299177169799805,disc loss=0.01716993749141693,{hms_string(epoch_elapsed)}\n",
            "Epoch 431, gen loss=8.969429016113281,disc loss=0.006066122092306614,{hms_string(epoch_elapsed)}\n",
            "Epoch 432, gen loss=12.006970405578613,disc loss=0.03199651837348938,{hms_string(epoch_elapsed)}\n",
            "Epoch 433, gen loss=9.993867874145508,disc loss=0.02301700972020626,{hms_string(epoch_elapsed)}\n",
            "Epoch 434, gen loss=10.893122673034668,disc loss=0.009271275252103806,{hms_string(epoch_elapsed)}\n",
            "Epoch 435, gen loss=9.524410247802734,disc loss=0.065791055560112,{hms_string(epoch_elapsed)}\n",
            "Epoch 436, gen loss=10.33253288269043,disc loss=0.01642819121479988,{hms_string(epoch_elapsed)}\n",
            "Epoch 437, gen loss=10.813215255737305,disc loss=0.18445958197116852,{hms_string(epoch_elapsed)}\n",
            "Epoch 438, gen loss=8.502669334411621,disc loss=0.030967557802796364,{hms_string(epoch_elapsed)}\n",
            "Epoch 439, gen loss=7.142813205718994,disc loss=0.1929270625114441,{hms_string(epoch_elapsed)}\n",
            "Epoch 440, gen loss=11.378368377685547,disc loss=0.20792034268379211,{hms_string(epoch_elapsed)}\n",
            "Epoch 441, gen loss=10.71238899230957,disc loss=0.004429525695741177,{hms_string(epoch_elapsed)}\n",
            "Epoch 442, gen loss=8.222678184509277,disc loss=0.006871174555271864,{hms_string(epoch_elapsed)}\n",
            "Epoch 443, gen loss=7.157354831695557,disc loss=0.018330831080675125,{hms_string(epoch_elapsed)}\n",
            "Epoch 444, gen loss=7.510303974151611,disc loss=0.005927470978349447,{hms_string(epoch_elapsed)}\n",
            "Epoch 445, gen loss=8.949679374694824,disc loss=0.004122902173548937,{hms_string(epoch_elapsed)}\n",
            "Epoch 446, gen loss=7.736698627471924,disc loss=0.1361556351184845,{hms_string(epoch_elapsed)}\n",
            "Epoch 447, gen loss=9.694967269897461,disc loss=0.193625807762146,{hms_string(epoch_elapsed)}\n",
            "Epoch 448, gen loss=8.607599258422852,disc loss=0.08157336711883545,{hms_string(epoch_elapsed)}\n",
            "Epoch 449, gen loss=6.846065044403076,disc loss=0.031922902911901474,{hms_string(epoch_elapsed)}\n",
            "Epoch 450, gen loss=10.118364334106445,disc loss=0.1156146377325058,{hms_string(epoch_elapsed)}\n",
            "Epoch 451, gen loss=9.119869232177734,disc loss=0.004626457113772631,{hms_string(epoch_elapsed)}\n",
            "Epoch 452, gen loss=6.4167022705078125,disc loss=0.2081882804632187,{hms_string(epoch_elapsed)}\n",
            "Epoch 453, gen loss=8.88284683227539,disc loss=0.02746003307402134,{hms_string(epoch_elapsed)}\n",
            "Epoch 454, gen loss=11.187566757202148,disc loss=0.286251425743103,{hms_string(epoch_elapsed)}\n",
            "Epoch 455, gen loss=10.227447509765625,disc loss=0.06735923886299133,{hms_string(epoch_elapsed)}\n",
            "Epoch 456, gen loss=9.424726486206055,disc loss=0.29096853733062744,{hms_string(epoch_elapsed)}\n",
            "Epoch 457, gen loss=8.64228343963623,disc loss=0.045508719980716705,{hms_string(epoch_elapsed)}\n",
            "Epoch 458, gen loss=8.944174766540527,disc loss=0.01201645564287901,{hms_string(epoch_elapsed)}\n",
            "Epoch 459, gen loss=9.904032707214355,disc loss=0.006000866647809744,{hms_string(epoch_elapsed)}\n",
            "Epoch 460, gen loss=10.305391311645508,disc loss=0.06253714859485626,{hms_string(epoch_elapsed)}\n",
            "Epoch 461, gen loss=8.156375885009766,disc loss=0.14286550879478455,{hms_string(epoch_elapsed)}\n",
            "Epoch 462, gen loss=4.714195251464844,disc loss=0.49372169375419617,{hms_string(epoch_elapsed)}\n",
            "Epoch 463, gen loss=10.084856986999512,disc loss=0.03512125834822655,{hms_string(epoch_elapsed)}\n",
            "Epoch 464, gen loss=12.539665222167969,disc loss=0.3984729051589966,{hms_string(epoch_elapsed)}\n",
            "Epoch 465, gen loss=7.7546844482421875,disc loss=0.026488684117794037,{hms_string(epoch_elapsed)}\n",
            "Epoch 466, gen loss=6.0543341636657715,disc loss=0.19007225334644318,{hms_string(epoch_elapsed)}\n",
            "Epoch 467, gen loss=11.894433975219727,disc loss=0.004573227372020483,{hms_string(epoch_elapsed)}\n",
            "Epoch 468, gen loss=11.161415100097656,disc loss=0.29208609461784363,{hms_string(epoch_elapsed)}\n",
            "Epoch 469, gen loss=7.140790939331055,disc loss=0.01945061981678009,{hms_string(epoch_elapsed)}\n",
            "Epoch 470, gen loss=8.661569595336914,disc loss=0.008590834215283394,{hms_string(epoch_elapsed)}\n",
            "Epoch 471, gen loss=7.122271537780762,disc loss=0.03441699594259262,{hms_string(epoch_elapsed)}\n",
            "Epoch 472, gen loss=6.079540252685547,disc loss=0.16489410400390625,{hms_string(epoch_elapsed)}\n",
            "Epoch 473, gen loss=14.79008960723877,disc loss=0.03153544291853905,{hms_string(epoch_elapsed)}\n",
            "Epoch 474, gen loss=12.52968692779541,disc loss=0.052490852773189545,{hms_string(epoch_elapsed)}\n",
            "Epoch 475, gen loss=13.25549602508545,disc loss=0.040031611919403076,{hms_string(epoch_elapsed)}\n",
            "Epoch 476, gen loss=11.112015724182129,disc loss=0.023973863571882248,{hms_string(epoch_elapsed)}\n",
            "Epoch 477, gen loss=9.481422424316406,disc loss=0.003971553407609463,{hms_string(epoch_elapsed)}\n",
            "Epoch 478, gen loss=7.884182929992676,disc loss=0.05911996215581894,{hms_string(epoch_elapsed)}\n",
            "Epoch 479, gen loss=7.364051342010498,disc loss=0.010366925038397312,{hms_string(epoch_elapsed)}\n",
            "Epoch 480, gen loss=6.177637100219727,disc loss=0.09454882889986038,{hms_string(epoch_elapsed)}\n",
            "Epoch 481, gen loss=9.862549781799316,disc loss=0.009668403305113316,{hms_string(epoch_elapsed)}\n",
            "Epoch 482, gen loss=8.899120330810547,disc loss=0.17431123554706573,{hms_string(epoch_elapsed)}\n",
            "Epoch 483, gen loss=13.296377182006836,disc loss=0.04915487393736839,{hms_string(epoch_elapsed)}\n",
            "Epoch 484, gen loss=8.073326110839844,disc loss=0.12656018137931824,{hms_string(epoch_elapsed)}\n",
            "Epoch 485, gen loss=6.388659477233887,disc loss=0.03722115978598595,{hms_string(epoch_elapsed)}\n",
            "Epoch 486, gen loss=7.7764716148376465,disc loss=0.049055904150009155,{hms_string(epoch_elapsed)}\n",
            "Epoch 487, gen loss=11.27658462524414,disc loss=0.043700285255908966,{hms_string(epoch_elapsed)}\n",
            "Epoch 488, gen loss=9.178983688354492,disc loss=0.04101748391985893,{hms_string(epoch_elapsed)}\n",
            "Epoch 489, gen loss=9.027912139892578,disc loss=0.027789363637566566,{hms_string(epoch_elapsed)}\n",
            "Epoch 490, gen loss=9.010704040527344,disc loss=0.018274808302521706,{hms_string(epoch_elapsed)}\n",
            "Epoch 491, gen loss=8.158125877380371,disc loss=0.039040278643369675,{hms_string(epoch_elapsed)}\n",
            "Epoch 492, gen loss=11.37540340423584,disc loss=0.07642152160406113,{hms_string(epoch_elapsed)}\n",
            "Epoch 493, gen loss=8.286346435546875,disc loss=0.052055153995752335,{hms_string(epoch_elapsed)}\n",
            "Epoch 494, gen loss=8.25119400024414,disc loss=0.010967076756060123,{hms_string(epoch_elapsed)}\n",
            "Epoch 495, gen loss=9.733932495117188,disc loss=0.0034077204763889313,{hms_string(epoch_elapsed)}\n",
            "Epoch 496, gen loss=8.907995223999023,disc loss=0.020053738728165627,{hms_string(epoch_elapsed)}\n",
            "Epoch 497, gen loss=8.468704223632812,disc loss=0.07790669798851013,{hms_string(epoch_elapsed)}\n",
            "Epoch 498, gen loss=9.962810516357422,disc loss=0.0782548189163208,{hms_string(epoch_elapsed)}\n",
            "Epoch 499, gen loss=9.979081153869629,disc loss=0.011690869927406311,{hms_string(epoch_elapsed)}\n",
            "Epoch 500, gen loss=9.406974792480469,disc loss=0.017279308289289474,{hms_string(epoch_elapsed)}\n"
          ]
        },
        {
          "output_type": "error",
          "ename": "NameError",
          "evalue": "ignored",
          "traceback": [
            "\u001b[0;31m---------------------------------------------------------------------------\u001b[0m",
            "\u001b[0;31mNameError\u001b[0m                                 Traceback (most recent call last)",
            "\u001b[0;32m<ipython-input-94-d152560ca122>\u001b[0m in \u001b[0;36m<module>\u001b[0;34m()\u001b[0m\n\u001b[0;32m----> 1\u001b[0;31m \u001b[0mtrain\u001b[0m\u001b[0;34m(\u001b[0m\u001b[0mtrain_dataset\u001b[0m\u001b[0;34m,\u001b[0m \u001b[0mEPOCHS\u001b[0m\u001b[0;34m)\u001b[0m\u001b[0;34m\u001b[0m\u001b[0;34m\u001b[0m\u001b[0m\n\u001b[0m",
            "\u001b[0;32m<ipython-input-92-87d3514ece31>\u001b[0m in \u001b[0;36mtrain\u001b[0;34m(dataset, epochs)\u001b[0m\n\u001b[1;32m     24\u001b[0m \u001b[0;34m\u001b[0m\u001b[0m\n\u001b[1;32m     25\u001b[0m   \u001b[0melapsed\u001b[0m \u001b[0;34m=\u001b[0m \u001b[0mtime\u001b[0m\u001b[0;34m.\u001b[0m\u001b[0mtime\u001b[0m\u001b[0;34m(\u001b[0m\u001b[0;34m)\u001b[0m\u001b[0;34m-\u001b[0m\u001b[0mstart\u001b[0m\u001b[0;34m\u001b[0m\u001b[0;34m\u001b[0m\u001b[0m\n\u001b[0;32m---> 26\u001b[0;31m   \u001b[0mprint\u001b[0m \u001b[0;34m(\u001b[0m\u001b[0;34mf'Training time: {hms_string(elapsed)}'\u001b[0m\u001b[0;34m)\u001b[0m\u001b[0;34m\u001b[0m\u001b[0;34m\u001b[0m\u001b[0m\n\u001b[0m\u001b[1;32m     27\u001b[0m \u001b[0;34m\u001b[0m\u001b[0m\n",
            "\u001b[0;31mNameError\u001b[0m: name 'hms_string' is not defined"
          ]
        }
      ]
    }
  ]
}